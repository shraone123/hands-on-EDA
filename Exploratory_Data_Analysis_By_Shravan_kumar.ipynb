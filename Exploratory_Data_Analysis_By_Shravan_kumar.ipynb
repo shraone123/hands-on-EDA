{
  "nbformat": 4,
  "nbformat_minor": 0,
  "metadata": {
    "colab": {
      "private_outputs": true,
      "provenance": []
    },
    "kernelspec": {
      "name": "python3",
      "display_name": "Python 3"
    },
    "language_info": {
      "name": "python"
    }
  },
  "cells": [
    {
      "cell_type": "markdown",
      "source": [
        "# **Project Name**    -\n",
        "\n"
      ],
      "metadata": {
        "id": "vncDsAP0Gaoa"
      }
    },
    {
      "cell_type": "markdown",
      "source": [
        "## **Data analysis project by shravan kumar **"
      ],
      "metadata": {
        "id": "xWGp2mphA91C"
      }
    },
    {
      "cell_type": "markdown",
      "source": [
        "##### **Project Type**    - EDA/Regression/Classification/Unsupervised\n",
        "##### **Contribution**    - Individual/Team\n",
        "##### **Team Member 1 -**\n",
        "##### **Team Member 2 -**\n",
        "##### **Team Member 3 -**\n",
        "##### **Team Member 4 -**"
      ],
      "metadata": {
        "id": "beRrZCGUAJYm"
      }
    },
    {
      "cell_type": "markdown",
      "source": [
        "# **Project Summary -**"
      ],
      "metadata": {
        "id": "FJNUwmbgGyua"
      }
    },
    {
      "cell_type": "markdown",
      "source": [
        "# The Delivery History Analysis project aims to explore and analyze a dataset containing historical delivery records. The dataset, titled SCMS Delivery History Dataset, includes various attributes related to deliveries, such as delivery times, order quantities, customer details, and geographical information. The primary goal of this project is to derive insights that can help improve delivery efficiency and customer satisfaction.The analysis will begin with a thorough exploration of the dataset to identify patterns and trends. like which manufacturing site is selling most quantitiy of medicne ,which test is highly demanding in worldwide, delivery type ,shipment mode time, product type all analysis give diffrent perspective to stake holders to understand comapnies bussiness"
      ],
      "metadata": {
        "id": "O9lOXecxPlf7"
      }
    },
    {
      "cell_type": "markdown",
      "source": [
        "Write the summary here within 500-600 words."
      ],
      "metadata": {
        "id": "F6v_1wHtG2nS"
      }
    },
    {
      "cell_type": "markdown",
      "source": [
        "# **GitHub Link -**"
      ],
      "metadata": {
        "id": "w6K7xa23Elo4"
      }
    },
    {
      "cell_type": "markdown",
      "source": [
        "Provide your GitHub Link here."
      ],
      "metadata": {
        "id": "h1o69JH3Eqqn"
      }
    },
    {
      "cell_type": "markdown",
      "source": [
        "# **Problem Statement**\n"
      ],
      "metadata": {
        "id": "yQaldy8SH6Dl"
      }
    },
    {
      "cell_type": "markdown",
      "source": [
        "# The Delivery History Analysis project aims to explore and analyze a dataset containing historical delivery records. The dataset, titled SCMS Delivery History Dataset, includes various attributes related to deliveries, such as delivery times, order quantities, customer details, and geographical information. The primary goal of this project is to derive insights that can help improve delivery efficiency and customer satisfaction."
      ],
      "metadata": {
        "id": "Vby5eraMPq8U"
      }
    },
    {
      "cell_type": "markdown",
      "source": [
        "**Write Problem Statement Here.**"
      ],
      "metadata": {
        "id": "DpeJGUA3kjGy"
      }
    },
    {
      "cell_type": "markdown",
      "source": [
        "#### **Define Your Business Objective?**"
      ],
      "metadata": {
        "id": "PH-0ReGfmX4f"
      }
    },
    {
      "cell_type": "markdown",
      "source": [
        "Answer Here."
      ],
      "metadata": {
        "id": "PhDvGCAqmjP1"
      }
    },
    {
      "cell_type": "markdown",
      "source": [
        "# **General Guidelines** : -  "
      ],
      "metadata": {
        "id": "mDgbUHAGgjLW"
      }
    },
    {
      "cell_type": "markdown",
      "source": [
        "1.   Well-structured, formatted, and commented code is required.\n",
        "2.   Exception Handling, Production Grade Code & Deployment Ready Code will be a plus. Those students will be awarded some additional credits.\n",
        "     \n",
        "     The additional credits will have advantages over other students during Star Student selection.\n",
        "       \n",
        "             [ Note: - Deployment Ready Code is defined as, the whole .ipynb notebook should be executable in one go\n",
        "                       without a single error logged. ]\n",
        "\n",
        "3.   Each and every logic should have proper comments.\n",
        "4. You may add as many number of charts you want. Make Sure for each and every chart the following format should be answered.\n",
        "        \n",
        "\n",
        "```\n",
        "# Chart visualization code\n",
        "```\n",
        "            \n",
        "\n",
        "*   Why did you pick the specific chart?\n",
        "*   What is/are the insight(s) found from the chart?\n",
        "* Will the gained insights help creating a positive business impact?\n",
        "Are there any insights that lead to negative growth? Justify with specific reason.\n",
        "\n",
        "5. You have to create at least 20 logical & meaningful charts having important insights.\n",
        "\n",
        "\n",
        "[ Hints : - Do the Vizualization in  a structured way while following \"UBM\" Rule.\n",
        "\n",
        "U - Univariate Analysis,\n",
        "\n",
        "B - Bivariate Analysis (Numerical - Categorical, Numerical - Numerical, Categorical - Categorical)\n",
        "\n",
        "M - Multivariate Analysis\n",
        " ]\n",
        "\n",
        "\n",
        "\n"
      ],
      "metadata": {
        "id": "ZrxVaUj-hHfC"
      }
    },
    {
      "cell_type": "markdown",
      "source": [
        "# ***Let's Begin !***"
      ],
      "metadata": {
        "id": "O_i_v8NEhb9l"
      }
    },
    {
      "cell_type": "markdown",
      "source": [
        "## ***1. Know Your Data***"
      ],
      "metadata": {
        "id": "HhfV-JJviCcP"
      }
    },
    {
      "cell_type": "markdown",
      "source": [
        "### Import Libraries"
      ],
      "metadata": {
        "id": "Y3lxredqlCYt"
      }
    },
    {
      "cell_type": "code",
      "source": [
        "import pandas as pd\n",
        "import numpy as np\n",
        "import seaborn as sns\n",
        "import matplotlib.pyplot as plt\n",
        "!pip install pandas openpyxl"
      ],
      "metadata": {
        "id": "M8Vqi-pPk-HR"
      },
      "execution_count": null,
      "outputs": []
    },
    {
      "cell_type": "markdown",
      "source": [
        "\n",
        "\n",
        "### Dataset Loading"
      ],
      "metadata": {
        "id": "3RnN4peoiCZX"
      }
    },
    {
      "cell_type": "code",
      "source": [
        "df = pd.read_csv('/content/SCMS_Delivery_History_Dataset.csv')\n",
        "\n",
        "\n",
        "df"
      ],
      "metadata": {
        "id": "4CkvbW_SlZ_R"
      },
      "execution_count": null,
      "outputs": []
    },
    {
      "cell_type": "code",
      "source": [
        "df.head()"
      ],
      "metadata": {
        "id": "LWNFOSvLl09H"
      },
      "execution_count": null,
      "outputs": []
    },
    {
      "cell_type": "code",
      "source": [
        "manufacring_site =df['Managed By'].value_counts()\n",
        "manufacring_site\n"
      ],
      "metadata": {
        "id": "zM7KLOSQd-G8"
      },
      "execution_count": null,
      "outputs": []
    },
    {
      "cell_type": "code",
      "source": [
        "manufacring_site =df['Manufacturing Site'].unique()\n"
      ],
      "metadata": {
        "id": "xCuCTOXRPLNz"
      },
      "execution_count": null,
      "outputs": []
    },
    {
      "cell_type": "code",
      "source": [
        "df[['Company Name','country name']] = df['Manufacturing Site'].str.split(',',n=1, expand=True)\n",
        "\n",
        "\n",
        "df['Company Name'] = df['Company Name'].str.strip()\n",
        "df['Country'] = df['Country'].str.strip()\n",
        "print(df[['Company Name', 'Country']])"
      ],
      "metadata": {
        "id": "Qsk2WqHyY8aS"
      },
      "execution_count": null,
      "outputs": []
    },
    {
      "cell_type": "code",
      "source": [
        "df.head()"
      ],
      "metadata": {
        "id": "Y2SjV2GNj_DT"
      },
      "execution_count": null,
      "outputs": []
    },
    {
      "cell_type": "code",
      "source": [
        "value_counts = df['country name'].value_counts().head(10)\n",
        "value_counts1 = df['Company Name'].value_counts().head(10)\n",
        "value_counts1"
      ],
      "metadata": {
        "id": "kCcsCctHkkeq"
      },
      "execution_count": null,
      "outputs": []
    },
    {
      "cell_type": "code",
      "source": [
        "value_counts = df['country name'].value_counts().head(10)\n",
        "value_counts"
      ],
      "metadata": {
        "id": "0D9AoCHpcGc4"
      },
      "execution_count": null,
      "outputs": []
    },
    {
      "cell_type": "code",
      "source": [],
      "metadata": {
        "id": "hbOyxEnnl6R2"
      },
      "execution_count": null,
      "outputs": []
    },
    {
      "cell_type": "code",
      "source": [
        "#weight column is stored multiple unuseful values\n",
        "unique_values = df['Weight (Kilograms)'].unique()\n",
        "unique_values"
      ],
      "metadata": {
        "id": "9DzKLOmb-6e6"
      },
      "execution_count": null,
      "outputs": []
    },
    {
      "cell_type": "markdown",
      "source": [
        "### Dataset Rows & Columns count"
      ],
      "metadata": {
        "id": "7hBIi_osiCS2"
      }
    },
    {
      "cell_type": "code",
      "source": [
        "df.shape"
      ],
      "metadata": {
        "id": "Kllu7SJgmLij"
      },
      "execution_count": null,
      "outputs": []
    },
    {
      "cell_type": "markdown",
      "source": [
        "### Dataset Information"
      ],
      "metadata": {
        "id": "JlHwYmJAmNHm"
      }
    },
    {
      "cell_type": "code",
      "source": [
        "df.info()"
      ],
      "metadata": {
        "id": "e9hRXRi6meOf"
      },
      "execution_count": null,
      "outputs": []
    },
    {
      "cell_type": "code",
      "source": [
        "df2=df.iloc[:,21]\n",
        "df2"
      ],
      "metadata": {
        "id": "YNgszgu7W7vN"
      },
      "execution_count": null,
      "outputs": []
    },
    {
      "cell_type": "markdown",
      "source": [
        "#### Duplicate Values"
      ],
      "metadata": {
        "id": "35m5QtbWiB9F"
      }
    },
    {
      "cell_type": "code",
      "source": [
        "dup=df.duplicated().sum()\n",
        "dup"
      ],
      "metadata": {
        "id": "1sLdpKYkmox0"
      },
      "execution_count": null,
      "outputs": []
    },
    {
      "cell_type": "markdown",
      "source": [
        "#### Missing Values/Null Values"
      ],
      "metadata": {
        "id": "PoPl-ycgm1ru"
      }
    },
    {
      "cell_type": "code",
      "source": [
        "missing_values=df.isnull().sum()\n",
        "missing_values"
      ],
      "metadata": {
        "id": "GgHWkxvamxVg"
      },
      "execution_count": null,
      "outputs": []
    },
    {
      "cell_type": "code",
      "source": [
        "sns.heatmap(data=missing_values.to_frame(),annot=True)\n",
        "plt.show()"
      ],
      "metadata": {
        "id": "3q5wnI3om9sJ"
      },
      "execution_count": null,
      "outputs": []
    },
    {
      "cell_type": "markdown",
      "source": [
        "### What did you know about your dataset?"
      ],
      "metadata": {
        "id": "H0kj-8xxnORC"
      }
    },
    {
      "cell_type": "code",
      "source": [],
      "metadata": {
        "id": "vEamUIJ0c4q9"
      },
      "execution_count": null,
      "outputs": []
    },
    {
      "cell_type": "code",
      "source": [
        "\"\"\"To provide a comprehensive review of the dataset titled \"SCMS Delivery History,\" I'll outline the key aspects typically associated with such datasets. Since I can't access the actual file, I'll base my review on common elements found in delivery history datasets.\n",
        "\n",
        "### Review of SCMS Delivery History Dataset\n",
        "\n",
        "#### Overview\n",
        "The SCMS Delivery History Dataset appears to capture essential information regarding the delivery operations within a supply chain management system. Such datasets are crucial for analyzing delivery efficiency, customer satisfaction, and overall operational performance.\n",
        "\n",
        "#### Key Features\n",
        "1. **Delivery Records**: The dataset likely includes individual records for each delivery, which may encompass details such as:\n",
        "   - Delivery ID\n",
        "   - Order ID\n",
        "   - Customer information (name, address)\n",
        "   - Delivery date and time\n",
        "   - Delivery status (e.g., completed, delayed, canceled)\n",
        "\n",
        "2. **Time Metrics**: Time-related metrics are often a significant focus in delivery datasets. This could include:\n",
        "   - Scheduled delivery time vs. actual delivery time\n",
        "   - Delays in delivery\n",
        "   - Lead times\n",
        "\n",
        "3. **Geographical Data**: Depending on the dataset's structure, there might be information on the geographical locations involved in deliveries, which can help in route optimization and performance analysis across different regions.\n",
        "\n",
        "4. **Performance Indicators**: Key performance indicators (KPIs) might be included, such as:\n",
        "   - Delivery success rate\n",
        "   - Average delivery time\n",
        "   - Customer feedback or ratings\n",
        "\n",
        "5. **Volume and Frequency**: Insights into the volume of deliveries over time can help identify trends, peak delivery times, and resource allocation needs.\n",
        "\n",
        "#### Potential Analyses\n",
        "- **Efficiency Analysis**: Evaluating the average delivery time and identifying factors contributing to delays.\n",
        "- **Customer Satisfaction**: Analyzing customer feedback in relation to delivery performance to enhance service quality.\n",
        "- **Operational Insights**: Identifying patterns in delivery issues, such as frequent delays in specific regions or during certain times.\n",
        "- **Forecasting**: Utilizing historical data to predict future delivery trends, which can aid in logistics planning.\n",
        "\n",
        "#### Limitations\n",
        "While the dataset provides valuable insights, there may be limitations such as:\n",
        "- **Data Completeness**: Missing records or incomplete entries could affect the reliability of the analysis.\n",
        "- **Timeliness**: If the dataset is outdated, it may not accurately reflect current operational realities.\n",
        "- **Bias**: Any inherent bias in data collection could skew results and lead to misinterpretations.\n",
        "\n",
        "### Conclusion\n",
        "The SCMS Delivery History Dataset serves as a vital resource for analyzing and improving delivery operations within a supply chain context. By leveraging the information contained within, organizations can enhance their logistics strategies, improve customer satisfaction, and ultimately drive better business outcomes. However, careful consideration of data quality and completeness is essential for deriving meaningful insights.\"\"\""
      ],
      "metadata": {
        "id": "CbkU8GJPTCQB"
      },
      "execution_count": null,
      "outputs": []
    },
    {
      "cell_type": "markdown",
      "source": [
        "Answer Here"
      ],
      "metadata": {
        "id": "gfoNAAC-nUe_"
      }
    },
    {
      "cell_type": "markdown",
      "source": [
        "## ***2. Understanding Your Variables***"
      ],
      "metadata": {
        "id": "nA9Y7ga8ng1Z"
      }
    },
    {
      "cell_type": "code",
      "source": [
        "df.columns\n"
      ],
      "metadata": {
        "id": "j7xfkqrt5Ag5"
      },
      "execution_count": null,
      "outputs": []
    },
    {
      "cell_type": "code",
      "source": [
        "df.describe()"
      ],
      "metadata": {
        "id": "DnOaZdaE5Q5t"
      },
      "execution_count": null,
      "outputs": []
    },
    {
      "cell_type": "code",
      "source": [
        "mode=df['Dosage'].mode()[0]"
      ],
      "metadata": {
        "id": "DJiRMSlYdDo3"
      },
      "execution_count": null,
      "outputs": []
    },
    {
      "cell_type": "code",
      "source": [
        " ##filling missing vlaues in a data set\n",
        "\n",
        " df['Dosage'].fillna(mode,inplace=True)\n",
        " df.isnull().sum()"
      ],
      "metadata": {
        "id": "mnOPRg_3dBTl"
      },
      "execution_count": null,
      "outputs": []
    },
    {
      "cell_type": "code",
      "source": [
        "df.dropna(subset=['Line Item Insurance (USD)'],inplace=True)\n",
        "df.isnull().sum()\n"
      ],
      "metadata": {
        "id": "u5KWDYcahRr5"
      },
      "execution_count": null,
      "outputs": []
    },
    {
      "cell_type": "code",
      "source": [
        "df3=df['Line Item Insurance (USD)']\n",
        "df3"
      ],
      "metadata": {
        "id": "Tp-yEErxfE6z"
      },
      "execution_count": null,
      "outputs": []
    },
    {
      "cell_type": "code",
      "source": [
        "sns.boxplot(df3)"
      ],
      "metadata": {
        "id": "L20pQostfo2E"
      },
      "execution_count": null,
      "outputs": []
    },
    {
      "cell_type": "code",
      "source": [
        "Q1 = df['Line Item Insurance (USD)'].quantile(0.25)\n",
        "Q3 = df['Line Item Insurance (USD)'].quantile(0.75)\n",
        "IQR = Q3 - Q1"
      ],
      "metadata": {
        "id": "NZvYKXzFh1m-"
      },
      "execution_count": null,
      "outputs": []
    },
    {
      "cell_type": "code",
      "source": [
        "lower_bound = Q1 - 1.5 * IQR\n",
        "upper_bound = Q3 + 1.5 * IQR\n",
        "\n",
        "# Remove outliers\n",
        "df_cleaned = df[(df['Line Item Insurance (USD)'] >= lower_bound) & (df['Line Item Insurance (USD)'] <= upper_bound)]\n",
        "\n",
        "\n",
        "# Optionally, create a box plot of the cleaned data\n",
        "plt.figure(figsize=(8, 5))\n",
        "plt.boxplot(df_cleaned['Line Item Insurance (USD)'])\n",
        "plt.title('Box Plot of Cleaned Values')\n",
        "plt.ylabel('Values')\n",
        "plt.show()"
      ],
      "metadata": {
        "id": "cOe5PLcemKpQ"
      },
      "execution_count": null,
      "outputs": []
    },
    {
      "cell_type": "code",
      "source": [
        "\n",
        "df.groupby('Shipment Mode')['Weight (Kilograms)'].count()"
      ],
      "metadata": {
        "id": "lZA9Z8I3h-mQ"
      },
      "execution_count": null,
      "outputs": []
    },
    {
      "cell_type": "code",
      "source": [
        "companies_count=df.groupby('Brand')['Weight (Kilograms)'].count()\n",
        "companies_count\n",
        "companies_count_sorted=companies_count.sort_values(ascending=False).head(10)"
      ],
      "metadata": {
        "id": "nfCJjArXyJaw"
      },
      "execution_count": null,
      "outputs": []
    },
    {
      "cell_type": "code",
      "source": [],
      "metadata": {
        "id": "Zz8RZrZbxxT9"
      },
      "execution_count": null,
      "outputs": []
    },
    {
      "cell_type": "code",
      "source": [
        "df.groupby('Shipment Mode')['Weight (Kilograms)'].count()"
      ],
      "metadata": {
        "id": "tzc9D9NuxyAk"
      },
      "execution_count": null,
      "outputs": []
    },
    {
      "cell_type": "code",
      "source": [
        "df['Shipment Mode'].fillna(method='ffill',inplace=True)\n",
        "df.isnull().sum()"
      ],
      "metadata": {
        "id": "SX4CMRmXiYmN"
      },
      "execution_count": null,
      "outputs": []
    },
    {
      "cell_type": "markdown",
      "source": [
        "### Variables Description"
      ],
      "metadata": {
        "id": "PBTbrJXOngz2"
      }
    },
    {
      "cell_type": "markdown",
      "source": [
        "Answer Here"
      ],
      "metadata": {
        "id": "aJV4KIxSnxay"
      }
    },
    {
      "cell_type": "markdown",
      "source": [
        "### Check Unique Values for each variable."
      ],
      "metadata": {
        "id": "u3PMJOP6ngxN"
      }
    },
    {
      "cell_type": "code",
      "source": [
        "# check unique values of each variable\n",
        "df['Shipment Mode'].unique().tolist()"
      ],
      "metadata": {
        "id": "zms12Yq5n-jE"
      },
      "execution_count": null,
      "outputs": []
    },
    {
      "cell_type": "code",
      "source": [],
      "metadata": {
        "id": "za15Y-40xhR1"
      },
      "execution_count": null,
      "outputs": []
    },
    {
      "cell_type": "markdown",
      "source": [
        "## 3. ***Data Wrangling***"
      ],
      "metadata": {
        "id": "dauF4eBmngu3"
      }
    },
    {
      "cell_type": "markdown",
      "source": [
        "### Data Wrangling Code"
      ],
      "metadata": {
        "id": "bKJF3rekwFvQ"
      }
    },
    {
      "cell_type": "code",
      "source": [
        "# Write your code to make your dataset analysis ready.\n",
        "grouped=df.groupby('Shipment Mode')['Line Item Insurance (USD)'].mean()\n",
        "grouped"
      ],
      "metadata": {
        "id": "wk-9a2fpoLcV"
      },
      "execution_count": null,
      "outputs": []
    },
    {
      "cell_type": "code",
      "source": [
        "groupd1=df.groupby('Country')['Freight Cost (USD)'].sum()\n",
        "groupd1"
      ],
      "metadata": {
        "id": "yc-pWQpAqCp9"
      },
      "execution_count": null,
      "outputs": []
    },
    {
      "cell_type": "code",
      "source": [],
      "metadata": {
        "id": "LmwhGdtQ7tL5"
      },
      "execution_count": null,
      "outputs": []
    },
    {
      "cell_type": "code",
      "source": [
        "groupd2=df.groupby('Manufacturing Site')['Line Item Value'].sum()\n",
        "groupd2"
      ],
      "metadata": {
        "id": "dnIsqES07ts3"
      },
      "execution_count": null,
      "outputs": []
    },
    {
      "cell_type": "code",
      "source": [
        "groupd2=df.groupby('Shipment Mode')['Line Item Value'].sum()\n",
        "groupd2"
      ],
      "metadata": {
        "id": "kWZ58Je1q8jP"
      },
      "execution_count": null,
      "outputs": []
    },
    {
      "cell_type": "code",
      "source": [
        "pivot=df.pivot_table(index='Country',columns='Shipment Mode',values='Line Item Quantity',aggfunc='sum')\n",
        "pivot"
      ],
      "metadata": {
        "id": "4S0kP508rdqb"
      },
      "execution_count": null,
      "outputs": []
    },
    {
      "cell_type": "code",
      "source": [
        "pivot2=df.pivot_table(index='Country',columns='Shipment Mode',values='Unit of Measure (Per Pack)',aggfunc='sum')\n",
        "pivot2"
      ],
      "metadata": {
        "id": "MNzCqQoyrkRd"
      },
      "execution_count": null,
      "outputs": []
    },
    {
      "cell_type": "code",
      "source": [],
      "metadata": {
        "id": "KW-paexK64PD"
      },
      "execution_count": null,
      "outputs": []
    },
    {
      "cell_type": "markdown",
      "source": [
        "### What all manipulations have you done and insights you found?"
      ],
      "metadata": {
        "id": "MSa1f5Uengrz"
      }
    },
    {
      "cell_type": "markdown",
      "source": [
        "Answer Here."
      ],
      "metadata": {
        "id": "LbyXE7I1olp8"
      }
    },
    {
      "cell_type": "markdown",
      "source": [
        "## ***4. Data Vizualization, Storytelling & Experimenting with charts : Understand the relationships between variables***"
      ],
      "metadata": {
        "id": "GF8Ens_Soomf"
      }
    },
    {
      "cell_type": "markdown",
      "source": [
        "#### Chart - 1"
      ],
      "metadata": {
        "id": "0wOQAZs5pc--"
      }
    },
    {
      "cell_type": "code",
      "source": [],
      "metadata": {
        "id": "7v_ESjsspbW7"
      },
      "execution_count": null,
      "outputs": []
    },
    {
      "cell_type": "markdown",
      "source": [],
      "metadata": {
        "id": "i39UCAvq1Gbz"
      }
    },
    {
      "cell_type": "code",
      "source": [
        "# comparison of shipment mode vs unit prices\n",
        "sns.barplot(x=df['Shipment Mode'],y=df['Unit Price'],palette='viridis',legend=False)\n",
        "plt.xlabel('Shipment Mode')\n",
        "plt.ylabel('UNIT PRICE')\n",
        "plt.title('Shipment Mode vs UNIT PRICE')\n",
        "plt.show()"
      ],
      "metadata": {
        "id": "yaRKsQ4kANbK"
      },
      "execution_count": null,
      "outputs": []
    },
    {
      "cell_type": "markdown",
      "source": [
        "##### 1. Why did you pick the specific chart?"
      ],
      "metadata": {
        "id": "K5QZ13OEpz2H"
      }
    },
    {
      "cell_type": "markdown",
      "source": [
        "# with this chart i want to compare shipment mode vs unit price so Bar charts provide a clear visual representation, making it easy to compare different categories (shipment modes) side by side. and Viewers can quickly grasp differences in unit prices across shipment modes without needing complex analysis."
      ],
      "metadata": {
        "id": "Kr7cxokdfK1c"
      }
    },
    {
      "cell_type": "markdown",
      "source": [
        "Answer Here."
      ],
      "metadata": {
        "id": "XESiWehPqBRc"
      }
    },
    {
      "cell_type": "markdown",
      "source": [
        "##### 2. What is/are the insight(s) found from the chart?"
      ],
      "metadata": {
        "id": "lQ7QKXXCp7Bj"
      }
    },
    {
      "cell_type": "markdown",
      "source": [
        "\n",
        "# 1.The chart provides a clear visual representation of how unit prices vary across different shipment modes (e.g., Air, Sea). You might identify which modes are more cost-effective and which are more expensive.\n",
        "## 2.Understanding how shipment mode influences costs can directly affect profit margins. If a cheaper mode is identified, it could lead to significant savings.italicized text\n",
        "# New Section"
      ],
      "metadata": {
        "id": "xtUjqn-9jjJI"
      }
    },
    {
      "cell_type": "markdown",
      "source": [
        "Answer Here"
      ],
      "metadata": {
        "id": "C_j1G7yiqdRP"
      }
    },
    {
      "cell_type": "markdown",
      "source": [
        "##### 3. Will the gained insights help creating a positive business impact?\n",
        "Are there any insights that lead to negative growth? Justify with specific reason."
      ],
      "metadata": {
        "id": "448CDAPjqfQr"
      }
    },
    {
      "cell_type": "markdown",
      "source": [
        "Answer Here"
      ],
      "metadata": {
        "id": "3cspy4FjqxJW"
      }
    },
    {
      "cell_type": "markdown",
      "source": [
        "\n",
        "\n",
        "# 1.from this insight we clearly understand that sea freight has a significantly lower unit price compared to air freight, it may be the best choice for large shipments.\n",
        "# 2.Consider the reliability of each shipment mode. Sometimes, cheaper options might lead to delays or damage, which can incur additional costs. so thats why its totally depends on product type and delivery time  "
      ],
      "metadata": {
        "id": "YV7lZ8mdkN9D"
      }
    },
    {
      "cell_type": "markdown",
      "source": [
        "#### Chart - 2"
      ],
      "metadata": {
        "id": "KSlN3yHqYklG"
      }
    },
    {
      "cell_type": "code",
      "source": [],
      "metadata": {
        "id": "wTEpS-tE9BZ2"
      },
      "execution_count": null,
      "outputs": []
    },
    {
      "cell_type": "code",
      "source": [
        "\n",
        "plt.figure(figsize=(10,6))\n",
        "palette = sns.color_palette(\"viridis\", n_colors=len(companies_count_sorted.index))\n",
        "sns.barplot(x=companies_count_sorted.index, y=companies_count_sorted.values, palette=palette)\n",
        "plt.xlabel('product type')\n",
        "plt.ylabel('product count')\n",
        "plt.title('healthcare product count')\n",
        "plt.show()"
      ],
      "metadata": {
        "id": "R4YgtaqtYklH"
      },
      "execution_count": null,
      "outputs": []
    },
    {
      "cell_type": "markdown",
      "source": [
        "##### 1. Why did you pick the specific chart?"
      ],
      "metadata": {
        "id": "t6dVpIINYklI"
      }
    },
    {
      "cell_type": "markdown",
      "source": [
        "Answer Here."
      ],
      "metadata": {
        "id": "5aaW0BYyYklI"
      }
    },
    {
      "cell_type": "markdown",
      "source": [
        "# Bar charts provide a straightforward way to compare the counts of different healthcare product, allowing for easy identification of which products dominate in frequency.\n",
        "\n"
      ],
      "metadata": {
        "id": "mQDVASLxnpUn"
      }
    },
    {
      "cell_type": "markdown",
      "source": [
        "##### 2. What is/are the insight(s) found from the chart?"
      ],
      "metadata": {
        "id": "ijmpgYnKYklI"
      }
    },
    {
      "cell_type": "markdown",
      "source": [
        "Answer Here"
      ],
      "metadata": {
        "id": "PSx9atu2YklI"
      }
    },
    {
      "cell_type": "markdown",
      "source": [
        "# 1.The chart highlights which companies are most frequently represented in the dataset, indicating their market presence or relevance in the context being analyzed.\n",
        "# 2.few products like generic, determineand uni gold  have significantly higher counts, it suggests product type demand in the market of healthcare and dignostic industry."
      ],
      "metadata": {
        "id": "EK4Lj563oEeT"
      }
    },
    {
      "cell_type": "markdown",
      "source": [
        "##### 3. Will the gained insights help creating a positive business impact?\n",
        "Are there any insights that lead to negative growth? Justify with specific reason."
      ],
      "metadata": {
        "id": "-JiQyfWJYklI"
      }
    },
    {
      "cell_type": "markdown",
      "source": [
        "Answer Here"
      ],
      "metadata": {
        "id": "BcBbebzrYklV"
      }
    },
    {
      "cell_type": "markdown",
      "source": [
        "# 1.By focusing efforts on products  with higher counts like generic item determine ,unigold , the business can streamline operations and enhance efficiency, leading to better profitability.\n",
        "# 2.its helping to understand which product is most demanding according to curent time trends.its also helping the business to better position itself in the market and respond to trends."
      ],
      "metadata": {
        "id": "yBDnUKYaqQ71"
      }
    },
    {
      "cell_type": "markdown",
      "source": [
        "#### Chart - 3"
      ],
      "metadata": {
        "id": "EM7whBJCYoAo"
      }
    },
    {
      "cell_type": "code",
      "source": [
        "# pie chart for wieght carried by each shipment mode\n",
        "explode = [0.04] * len(grouped)\n",
        "\n",
        "plt.figure(figsize=(8, 8))\n",
        "plt.pie(grouped, labels=grouped.index, autopct='%1.1f%%', explode=explode)\n",
        "plt.title('Weight Carried by Each Shipment Mode')\n",
        "plt.show()\n"
      ],
      "metadata": {
        "id": "k6DbwhsGsdxb"
      },
      "execution_count": null,
      "outputs": []
    },
    {
      "cell_type": "markdown",
      "source": [
        "##### 1. Why did you pick the specific chart?"
      ],
      "metadata": {
        "id": "fge-S5ZAYoAp"
      }
    },
    {
      "cell_type": "markdown",
      "source": [
        "# The reason of choosing pie chart is because Pie charts effectively show how different categories contribute to a whole, making it easy to understand the share of weight each shipment mode carries relative to the total."
      ],
      "metadata": {
        "id": "UJVQFdjmtSvs"
      }
    },
    {
      "cell_type": "markdown",
      "source": [
        "Answer Here."
      ],
      "metadata": {
        "id": "5dBItgRVYoAp"
      }
    },
    {
      "cell_type": "markdown",
      "source": [
        "##### 2. What is/are the insight(s) found from the chart?"
      ],
      "metadata": {
        "id": "85gYPyotYoAp"
      }
    },
    {
      "cell_type": "markdown",
      "source": [
        "Answer Here"
      ],
      "metadata": {
        "id": "4jstXR6OYoAp"
      }
    },
    {
      "cell_type": "markdown",
      "source": [
        "# It provides insights into the balance of weight distribution among shipment modes,\n",
        "# The chart will clearly indicate that ocean and air charter  carry the most weight,its highlighting the primary transportation methods used by companies."
      ],
      "metadata": {
        "id": "pg8GuaMDt-f_"
      }
    },
    {
      "cell_type": "markdown",
      "source": [
        "##### 3. Will the gained insights help creating a positive business impact?\n",
        "Are there any insights that lead to negative growth? Justify with specific reason."
      ],
      "metadata": {
        "id": "RoGjAbkUYoAp"
      }
    },
    {
      "cell_type": "markdown",
      "source": [
        "Answer Here"
      ],
      "metadata": {
        "id": "zfJ8IqMcYoAp"
      }
    },
    {
      "cell_type": "markdown",
      "source": [
        "# From this we can clearly understand that half of transportation is done only trough air so companies should try to find other options to doing easy negotiations.\n",
        "# Understanding  of the weight distribution allows us to plan strategic decisions regarding logistics planning that potentially leading to cost savings."
      ],
      "metadata": {
        "id": "AaipSJDivz-m"
      }
    },
    {
      "cell_type": "markdown",
      "source": [
        "#### Chart - 4"
      ],
      "metadata": {
        "id": "4Of9eVA-YrdM"
      }
    },
    {
      "cell_type": "code",
      "source": [
        "plt.figure(figsize=(15, 6))\n",
        "sns.barplot(x='Country', y='Line Item Value',color='red', data=df)\n",
        "plt.title('Line Item Value by Country')\n",
        "plt.xticks(rotation=90)\n",
        "plt.show()\n"
      ],
      "metadata": {
        "id": "aO0EaKgfMnHC"
      },
      "execution_count": null,
      "outputs": []
    },
    {
      "cell_type": "markdown",
      "source": [
        "##### 1. Why did you pick the specific chart?"
      ],
      "metadata": {
        "id": "iky9q4vBYrdO"
      }
    },
    {
      "cell_type": "markdown",
      "source": [
        "# Bar charts are excellent for comparing quantities across different categories—in this case, the \"Line Item Value\" for each country. They allow for quick visual comparison, making it easy to identify which countries have higher or lower values."
      ],
      "metadata": {
        "id": "b7-4uvZ-v_1p"
      }
    },
    {
      "cell_type": "markdown",
      "source": [
        "Answer Here."
      ],
      "metadata": {
        "id": "aJRCwT6DYrdO"
      }
    },
    {
      "cell_type": "markdown",
      "source": [
        "##### 2. What is/are the insight(s) found from the chart?"
      ],
      "metadata": {
        "id": "F6T5p64dYrdO"
      }
    },
    {
      "cell_type": "markdown",
      "source": [
        "Answer Here"
      ],
      "metadata": {
        "id": "Xx8WAJvtYrdO"
      }
    },
    {
      "cell_type": "markdown",
      "source": [
        "# the chart likely identifies which countries are generating the highest line item values. This can highlight countries like malawai,kenya,mozambique, zambia where the business is performing well.and the countries with lower line item values like burundi, senegal, lebanon, mali, sudan,where the business may be struggling or not fully capitalizing on potential market opportunities."
      ],
      "metadata": {
        "id": "TkaHz0Tmw-kv"
      }
    },
    {
      "cell_type": "markdown",
      "source": [
        "##### 3. Will the gained insights help creating a positive business impact?\n",
        "Are there any insights that lead to negative growth? Justify with specific reason."
      ],
      "metadata": {
        "id": "y-Ehk30pYrdP"
      }
    },
    {
      "cell_type": "markdown",
      "source": [
        "Answer Here"
      ],
      "metadata": {
        "id": "jLNxxz7MYrdP"
      }
    },
    {
      "cell_type": "markdown",
      "source": [
        "# identifying high-performing countries like kenya, malawi  where the business can tailor its strategies to amplify successes, possibly by increasing marketing efforts or resource allocation in those regions. underperforming countries like lebanon, burundi where companies plan to find growth potential region andmake new mareting stratagies to increasing sales."
      ],
      "metadata": {
        "id": "YFgCCYDoyizT"
      }
    },
    {
      "cell_type": "markdown",
      "source": [
        "#### Chart - 5"
      ],
      "metadata": {
        "id": "bamQiAODYuh1"
      }
    },
    {
      "cell_type": "code",
      "source": [
        "plt.figure(figsize=(10, 5))\n",
        "sns.barplot(data=value_counts1, palette='viridis',orient='h')  # You can change 'viridis' to any other color palette\n",
        "\n",
        "# Customize the ticks and labels\n",
        "plt.xticks(rotation=0)\n",
        "\n",
        "plt.title('Count of Shipments by Manufacturing Site')\n",
        "\n",
        "# Show the plot\n",
        "plt.show()"
      ],
      "metadata": {
        "id": "9CptTI48UWSv"
      },
      "execution_count": null,
      "outputs": []
    },
    {
      "cell_type": "markdown",
      "source": [],
      "metadata": {
        "id": "HkqMq1RbUVvW"
      }
    },
    {
      "cell_type": "markdown",
      "source": [],
      "metadata": {
        "id": "lx0_rs1JUVQl"
      }
    },
    {
      "cell_type": "markdown",
      "source": [
        "##### 1. Why did you pick the specific chart?"
      ],
      "metadata": {
        "id": "QHF8YVU7Yuh3"
      }
    },
    {
      "cell_type": "markdown",
      "source": [
        "# I chose a horizontal bar chart to visualize the count of shipments by manufacturing site because it effectively displays categorical data in a clear and intuitive manner."
      ],
      "metadata": {
        "id": "ukG321eWWTH9"
      }
    },
    {
      "cell_type": "markdown",
      "source": [
        "Answer Here."
      ],
      "metadata": {
        "id": "dcxuIMRPYuh3"
      }
    },
    {
      "cell_type": "markdown",
      "source": [
        "##### 2. What is/are the insight(s) found from the chart?"
      ],
      "metadata": {
        "id": "GwzvFGzlYuh3"
      }
    },
    {
      "cell_type": "markdown",
      "source": [
        "# From the chart, we can identify which manufacturing sites have the highest and lowest shipment counts. This can indicate the efficiency or output capacity of each site like aurobindo is highest and abbott is **lowest**"
      ],
      "metadata": {
        "id": "8iWChje3WVzT"
      }
    },
    {
      "cell_type": "markdown",
      "source": [
        "Answer Here"
      ],
      "metadata": {
        "id": "uyqkiB8YYuh3"
      }
    },
    {
      "cell_type": "markdown",
      "source": [
        "##### 3. Will the gained insights help creating a positive business impact?\n",
        "Are there any insights that lead to negative growth? Justify with specific reason."
      ],
      "metadata": {
        "id": "qYpmQ266Yuh3"
      }
    },
    {
      "cell_type": "markdown",
      "source": [
        "# Yes, the insights gained from the chart can significantly contribute to positive business impact. By understanding which manufacturing sites are performing well,"
      ],
      "metadata": {
        "id": "WlwbDOdoW3Cn"
      }
    },
    {
      "cell_type": "markdown",
      "source": [
        "Answer Here"
      ],
      "metadata": {
        "id": "_WtzZ_hCYuh4"
      }
    },
    {
      "cell_type": "markdown",
      "source": [],
      "metadata": {
        "id": "RvLmwRac4yHg"
      }
    },
    {
      "cell_type": "markdown",
      "source": [
        "#### Chart - 6"
      ],
      "metadata": {
        "id": "OH-pJp9IphqM"
      }
    },
    {
      "cell_type": "code",
      "source": [
        "# Chart - 6 visualization code\n",
        "plt.figure(figsize=(20, 6))\n",
        "sns.violinplot(x='Molecule/Test Type', y='Line Item Quantity', data=df)\n",
        "plt.title('Line Item Quantity by Molecule/Test Type')\n",
        "plt.xticks(rotation=90)\n",
        "plt.show()\n"
      ],
      "metadata": {
        "id": "kuRf4wtuphqN"
      },
      "execution_count": null,
      "outputs": []
    },
    {
      "cell_type": "code",
      "source": [
        "df['Molecule/Test Type'].value_counts()"
      ],
      "metadata": {
        "id": "yQgfNpeE4GVJ"
      },
      "execution_count": null,
      "outputs": []
    },
    {
      "cell_type": "markdown",
      "source": [
        "##### 1. Why did you pick the specific chart?"
      ],
      "metadata": {
        "id": "bbFf2-_FphqN"
      }
    },
    {
      "cell_type": "markdown",
      "source": [
        "Answer Here."
      ],
      "metadata": {
        "id": "loh7H2nzphqN"
      }
    },
    {
      "cell_type": "markdown",
      "source": [
        "# Beacause violin plots display the distribution of the data across different categories. This helps in understanding the spread and density of line item quantities for each Molecule/Test Type."
      ],
      "metadata": {
        "id": "rpe5tTds1UMQ"
      }
    },
    {
      "cell_type": "markdown",
      "source": [
        "##### 2. What is/are the insight(s) found from the chart?"
      ],
      "metadata": {
        "id": "_ouA3fa0phqN"
      }
    },
    {
      "cell_type": "markdown",
      "source": [
        "# The median of violin shows that  helps identify which Molecule/Test Types are most commonly associated with higher or lower line item quantities, allowing for a quick comparison.test typekit like Efavirenz,Nevirapine ,Lamivudine/Nevirapine/Zidovudine have highest value count while Primaquine base (as diphosphate)\t,HIV, Reveal G3 Rapid HIV-1 Antibody Test have less selling."
      ],
      "metadata": {
        "id": "EkTR54xk20Xe"
      }
    },
    {
      "cell_type": "markdown",
      "source": [
        "Answer Here"
      ],
      "metadata": {
        "id": "VECbqPI7phqN"
      }
    },
    {
      "cell_type": "markdown",
      "source": [],
      "metadata": {
        "id": "Kl5jPBui1jPd"
      }
    },
    {
      "cell_type": "markdown",
      "source": [
        "##### 3. Will the gained insights help creating a positive business impact?\n",
        "Are there any insights that lead to negative growth? Justify with specific reason."
      ],
      "metadata": {
        "id": "Seke61FWphqN"
      }
    },
    {
      "cell_type": "markdown",
      "source": [
        "Answer Here"
      ],
      "metadata": {
        "id": "DW4_bGpfphqN"
      }
    },
    {
      "cell_type": "markdown",
      "source": [
        "# The insights gained from the violin plot can inform strategic decisions regarding resource allocation. Understanding which Molecule/Test Types have higher line item quantities can help direct marketing efforts, inventory management, and production planning."
      ],
      "metadata": {
        "id": "euOmDK1M65MJ"
      }
    },
    {
      "cell_type": "markdown",
      "source": [
        "#### Chart - 7"
      ],
      "metadata": {
        "id": "PIIx-8_IphqN"
      }
    },
    {
      "cell_type": "code",
      "source": [
        "# Chart - 7 visualization code\n",
        "plt.figure(figsize=(10, 6))\n",
        "sns.scatterplot(x='Pack Price', y='Line Item Value',data=df)\n",
        "plt.title('Pack Price vs. Line Item Value')\n",
        "plt.show()\n"
      ],
      "metadata": {
        "id": "lqAIGUfyphqO"
      },
      "execution_count": null,
      "outputs": []
    },
    {
      "cell_type": "markdown",
      "source": [
        "##### 1. Why did you pick the specific chart?"
      ],
      "metadata": {
        "id": "t27r6nlMphqO"
      }
    },
    {
      "cell_type": "markdown",
      "source": [
        "Answer Here."
      ],
      "metadata": {
        "id": "iv6ro40sphqO"
      }
    },
    {
      "cell_type": "markdown",
      "source": [
        "# Scatter plots are ideal for examining the relationship between two continuous variables—in this case, Pack Price and Line Item Value This allows for the identification of any correlation or trend between these two metrics."
      ],
      "metadata": {
        "id": "bwXCX6uU7ZVt"
      }
    },
    {
      "cell_type": "markdown",
      "source": [
        "##### 2. What is/are the insight(s) found from the chart?"
      ],
      "metadata": {
        "id": "r2jJGEOYphqO"
      }
    },
    {
      "cell_type": "markdown",
      "source": [
        "Answer Here"
      ],
      "metadata": {
        "id": "Po6ZPi4hphqO"
      }
    },
    {
      "cell_type": "markdown",
      "source": [
        "# from the above chart correlation between pack price and line item value is identified, we easily identifies that most of pack price where product is sold is between 0 to 200 with quantities of 1,2 3,or 4"
      ],
      "metadata": {
        "id": "ZxhbGCjv-mK7"
      }
    },
    {
      "cell_type": "markdown",
      "source": [
        "##### 3. Will the gained insights help creating a positive business impact?\n",
        "Are there any insights that lead to negative growth? Justify with specific reason."
      ],
      "metadata": {
        "id": "b0JNsNcRphqO"
      }
    },
    {
      "cell_type": "markdown",
      "source": [
        "Answer Here"
      ],
      "metadata": {
        "id": "xvSq8iUTphqO"
      }
    },
    {
      "cell_type": "markdown",
      "source": [
        "# a positive correlation between pack price and line item value is identified, the business can leverage this information to optimize pricing strategies. For instance, they might decide to increase prices on high-demand items to maximize revenue."
      ],
      "metadata": {
        "id": "Ee_SxRnC_6uW"
      }
    },
    {
      "cell_type": "markdown",
      "source": [
        "#### Chart - 8"
      ],
      "metadata": {
        "id": "BZR9WyysphqO"
      }
    },
    {
      "cell_type": "code",
      "source": [
        "# Chart - 8 visualization code\n",
        "plt.figure(figsize=(10, 6))\n",
        "sns.histplot(df['Line Item Value'],color='orange',bins=30, kde=True)\n",
        "plt.title('Distribution of Line Item Value')\n",
        "plt.show()\n"
      ],
      "metadata": {
        "id": "TdPTWpAVphqO"
      },
      "execution_count": null,
      "outputs": []
    },
    {
      "cell_type": "markdown",
      "source": [
        "##### 1. Why did you pick the specific chart?"
      ],
      "metadata": {
        "id": "jj7wYXLtphqO"
      }
    },
    {
      "cell_type": "markdown",
      "source": [
        "Answer Here."
      ],
      "metadata": {
        "id": "Ob8u6rCTphqO"
      }
    },
    {
      "cell_type": "markdown",
      "source": [
        "# A histogram is an effective way to visualize the distribution of a single continuous variable—in this case, Line Item Value. It allows us to see how values are spread across different ranges."
      ],
      "metadata": {
        "id": "7pECVm1JCrr1"
      }
    },
    {
      "cell_type": "markdown",
      "source": [
        "##### 2. What is/are the insight(s) found from the chart?"
      ],
      "metadata": {
        "id": "eZrbJ2SmphqO"
      }
    },
    {
      "cell_type": "markdown",
      "source": [
        "# IN this chart we clearly identifies that mostly distribution of line item values is l between 0 to 1 that indicates spread of values.and few high values outlier as welll\n",
        "---\n",
        "\n",
        "\n",
        "\n",
        "---\n",
        "\n"
      ],
      "metadata": {
        "id": "c5lmCUszD_Xq"
      }
    },
    {
      "cell_type": "markdown",
      "source": [],
      "metadata": {
        "id": "1CNUu-XANQU6"
      }
    },
    {
      "cell_type": "markdown",
      "source": [
        "Answer Here"
      ],
      "metadata": {
        "id": "mZtgC_hjphqO"
      }
    },
    {
      "cell_type": "markdown",
      "source": [
        "##### 3. Will the gained insights help creating a positive business impact?\n",
        "Are there any insights that lead to negative growth? Justify with specific reason."
      ],
      "metadata": {
        "id": "rFu4xreNphqO"
      }
    },
    {
      "cell_type": "markdown",
      "source": [
        "# Understanding the common transaction of line item values can help tailor marketing strategies to different customer segmentsand make new strategies for pricing to growth revenue"
      ],
      "metadata": {
        "id": "M2pdwc-5OkiO"
      }
    },
    {
      "cell_type": "markdown",
      "source": [
        "chart is indicate is"
      ],
      "metadata": {
        "id": "EVTjPq8ZOL15"
      }
    },
    {
      "cell_type": "markdown",
      "source": [
        "Answer Here"
      ],
      "metadata": {
        "id": "ey_0qi68phqO"
      }
    },
    {
      "cell_type": "markdown",
      "source": [
        "#### Chart - 9"
      ],
      "metadata": {
        "id": "YJ55k-q6phqO"
      }
    },
    {
      "cell_type": "code",
      "source": [
        "# Chart - 9 visualization code (distribution of line items by product group)\n",
        "g = sns.FacetGrid(df, col='Product Group', col_wrap=4, height=4)\n",
        "g.map(sns.histplot, 'Line Item Value', bins=30)\n",
        "plt.subplots_adjust(top=0.9)\n",
        "g.fig.suptitle('Distribution of Line Item Value by Product Group')\n",
        "plt.show()\n"
      ],
      "metadata": {
        "id": "B2aS4O1ophqO"
      },
      "execution_count": null,
      "outputs": []
    },
    {
      "cell_type": "markdown",
      "source": [
        "##### 1. Why did you pick the specific chart?"
      ],
      "metadata": {
        "id": "gCFgpxoyphqP"
      }
    },
    {
      "cell_type": "markdown",
      "source": [
        "# I chose to use a facet grid of histograms to visualize the distribution of line item values by product group because it allows for a detailed comparison across multiple categories simultaneously."
      ],
      "metadata": {
        "id": "EdFAw1JVXeNz"
      }
    },
    {
      "cell_type": "markdown",
      "source": [
        "Answer Here."
      ],
      "metadata": {
        "id": "TVxDimi2phqP"
      }
    },
    {
      "cell_type": "markdown",
      "source": [
        "##### 2. What is/are the insight(s) found from the chart?"
      ],
      "metadata": {
        "id": "OVtJsKN_phqQ"
      }
    },
    {
      "cell_type": "markdown",
      "source": [
        "Answer Here"
      ],
      "metadata": {
        "id": "ngGi97qjphqQ"
      }
    },
    {
      "cell_type": "markdown",
      "source": [
        "# The chart reveals how line item values are distributed across different product groups. By examining the histograms, we can identify which product groups tend to have higher or lower line item values and notice any skewness or peaks in the distributions."
      ],
      "metadata": {
        "id": "Nw-HBzDTXzTG"
      }
    },
    {
      "cell_type": "markdown",
      "source": [
        "##### 3. Will the gained insights help creating a positive business impact?\n",
        "Are there any insights that lead to negative growth? Justify with specific reason."
      ],
      "metadata": {
        "id": "lssrdh5qphqQ"
      }
    },
    {
      "cell_type": "markdown",
      "source": [
        "# yes, the insights gained from this visualization can lead to positive business impacts. Understanding the distribution of line item values helps in inventory management, pricing strategies, and marketing efforts."
      ],
      "metadata": {
        "id": "mEIINN3rX8f4"
      }
    },
    {
      "cell_type": "markdown",
      "source": [
        "Answer Here"
      ],
      "metadata": {
        "id": "tBpY5ekJphqQ"
      }
    },
    {
      "cell_type": "markdown",
      "source": [
        "#### Chart - 10"
      ],
      "metadata": {
        "id": "U2RJ9gkRphqQ"
      }
    },
    {
      "cell_type": "code",
      "source": [
        "import matplotlib.pyplot as plt\n",
        "\n",
        "# Calculate average values\n",
        "avg_values = df.groupby('Fulfill Via')['Line Item Value'].mean().reset_index()\n",
        "\n",
        "labels = avg_values['Fulfill Via']\n",
        "sizes = avg_values['Line Item Value']\n",
        "plt.figure(figsize=(8, 8))\n",
        "plt.pie(sizes, labels=labels, autopct='%1.1f%%', startangle=140)\n",
        "plt.title('Average Line Item Value by Fulfill Via')\n",
        "plt.axis('equal')\n",
        "plt.show()\n"
      ],
      "metadata": {
        "id": "55pxWMa8P4hv"
      },
      "execution_count": null,
      "outputs": []
    },
    {
      "cell_type": "markdown",
      "source": [
        "##### 1. Why did you pick the specific chart?"
      ],
      "metadata": {
        "id": "1M8mcRywphqQ"
      }
    },
    {
      "cell_type": "markdown",
      "source": [
        "# I chose a pie chart to visualize the average line item value by fulfillment method because it effectively illustrates the proportion of each category relative to the whole."
      ],
      "metadata": {
        "id": "W5vFNKdMQUqd"
      }
    },
    {
      "cell_type": "markdown",
      "source": [
        "Answer Here."
      ],
      "metadata": {
        "id": "8agQvks0phqQ"
      }
    },
    {
      "cell_type": "markdown",
      "source": [
        "##### 2. What is/are the insight(s) found from the chart?"
      ],
      "metadata": {
        "id": "tgIPom80phqQ"
      }
    },
    {
      "cell_type": "markdown",
      "source": [
        "Answer Here"
      ],
      "metadata": {
        "id": "Qp13pnNzphqQ"
      }
    },
    {
      "cell_type": "markdown",
      "source": [
        "# chart is clearly show insight that 2/3 delivery is done from rdc and rest is doneby direct drop"
      ],
      "metadata": {
        "id": "wru1ZwqaQYzH"
      }
    },
    {
      "cell_type": "markdown",
      "source": [
        "##### 3. Will the gained insights help creating a positive business impact?\n",
        "Are there any insights that lead to negative growth? Justify with specific reason."
      ],
      "metadata": {
        "id": "JMzcOPDDphqR"
      }
    },
    {
      "cell_type": "markdown",
      "source": [],
      "metadata": {
        "id": "w32bbe4rRBW1"
      }
    },
    {
      "cell_type": "markdown",
      "source": [
        "Answer Here"
      ],
      "metadata": {
        "id": "R4Ka1PC2phqR"
      }
    },
    {
      "cell_type": "markdown",
      "source": [
        "# Understanding which fulfillment methods yield higher average line item values can guide resource allocation, ensuring that businesses focus on optimizing these methods for efficiency and customer satisfaction."
      ],
      "metadata": {
        "id": "ruj0HnXkRGuW"
      }
    },
    {
      "cell_type": "code",
      "source": [],
      "metadata": {
        "id": "bVRnXiwWRAx8"
      },
      "execution_count": null,
      "outputs": []
    },
    {
      "cell_type": "code",
      "source": [
        "# Chart - 11 visualization code\n"
      ],
      "metadata": {
        "id": "mAQTIvtqp1cj"
      },
      "execution_count": null,
      "outputs": []
    },
    {
      "cell_type": "markdown",
      "source": [
        "chart 11\n"
      ],
      "metadata": {
        "id": "KfSYaRw4Txjr"
      }
    },
    {
      "cell_type": "code",
      "source": [
        "sns.countplot(data=df,x='Fulfill Via',hue='Shipment Mode')\n",
        "plt.title('Fulfill Via vs Shipment Mode')\n",
        "plt.xlabel('Fulfill Via')\n",
        "plt.ylabel('Count of Shipments mode')\n",
        "plt.show()"
      ],
      "metadata": {
        "id": "cqcJBTZkPog-"
      },
      "execution_count": null,
      "outputs": []
    },
    {
      "cell_type": "markdown",
      "source": [
        "##### 1. Why did you pick the specific chart?"
      ],
      "metadata": {
        "id": "X_VqEhTip1ck"
      }
    },
    {
      "cell_type": "markdown",
      "source": [
        "Answer Here."
      ],
      "metadata": {
        "id": "-vsMzt_np1ck"
      }
    },
    {
      "cell_type": "markdown",
      "source": [
        "# I chose the count plot because it effectively visualizes the distribution of categorical data. By using both the x-axis for \"Fulfill Via\" and the hue for \"Shipment Mode,\""
      ],
      "metadata": {
        "id": "WnpBz13zEYyq"
      }
    },
    {
      "cell_type": "markdown",
      "source": [
        "##### 2. What is/are the insight(s) found from the chart?"
      ],
      "metadata": {
        "id": "8zGJKyg5p1ck"
      }
    },
    {
      "cell_type": "markdown",
      "source": [
        "Answer Here"
      ],
      "metadata": {
        "id": "ZYdMsrqVp1ck"
      }
    },
    {
      "cell_type": "markdown",
      "source": [
        "# The chart may show which fulfillment methods are most frequently used, indicating preferred operational strategies. chart clearly represent that air shipment mode is most frequent."
      ],
      "metadata": {
        "id": "jMhprW7SEcvd"
      }
    },
    {
      "cell_type": "markdown",
      "source": [
        "##### 3. Will the gained insights help creating a positive business impact?\n",
        "Are there any insights that lead to negative growth? Justify with specific reason."
      ],
      "metadata": {
        "id": "PVzmfK_Ep1ck"
      }
    },
    {
      "cell_type": "markdown",
      "source": [
        "Answer Here"
      ],
      "metadata": {
        "id": "druuKYZpp1ck"
      }
    },
    {
      "cell_type": "markdown",
      "source": [
        "# Understanding  of which fulfillment methods are most popular can help us to plan better inventory and staffing decisions."
      ],
      "metadata": {
        "id": "iI8r2QlMEweO"
      }
    },
    {
      "cell_type": "markdown",
      "source": [
        "#### Chart - 12"
      ],
      "metadata": {
        "id": "n3dbpmDWp1ck"
      }
    },
    {
      "cell_type": "code",
      "source": [],
      "metadata": {
        "id": "6yKho3txdBI2"
      },
      "execution_count": null,
      "outputs": []
    },
    {
      "cell_type": "markdown",
      "source": [
        "chart 12"
      ],
      "metadata": {
        "id": "HHNPRLv6XqCy"
      }
    },
    {
      "cell_type": "code",
      "source": [
        "plt.figure(figsize=(10, 5))\n",
        "sns.barplot(data=value_counts, palette='pastel',orient='h')  # You can change 'viridis' to any other color palette\n",
        "\n",
        "# Customize the ticks and labels\n",
        "plt.xticks(rotation=0)\n",
        "\n",
        "plt.title('Count of Shipments by country')\n",
        "\n",
        "# Show the plot\n",
        "plt.show()"
      ],
      "metadata": {
        "id": "Rq53lKdHdBmK"
      },
      "execution_count": null,
      "outputs": []
    },
    {
      "cell_type": "markdown",
      "source": [
        "##### 1. Why did you pick the specific chart?"
      ],
      "metadata": {
        "id": "ylSl6qgtp1ck"
      }
    },
    {
      "cell_type": "markdown",
      "source": [
        "Answer Here."
      ],
      "metadata": {
        "id": "m2xqNkiQp1ck"
      }
    },
    {
      "cell_type": "markdown",
      "source": [
        "# The horizontal bar plot is ideal for displaying categorical data, especially when there are many categories (in this case, countries). This format makes it easier to compare the counts visually across different countries. The horizontal layout is particularly useful when country names are long, ensuring they are easily readable without overlap."
      ],
      "metadata": {
        "id": "UPHurTSLBFh7"
      }
    },
    {
      "cell_type": "markdown",
      "source": [
        "2. What is/are the insight(s) found from the chart?"
      ],
      "metadata": {
        "id": "ZWILFDl5p1ck"
      }
    },
    {
      "cell_type": "markdown",
      "source": [
        "Answer Here"
      ],
      "metadata": {
        "id": "x-lUsV2mp1ck"
      }
    },
    {
      "cell_type": "markdown",
      "source": [
        "# You might identify specific countries that contribute the most to the total shipment count, highlighting key markets.country like india is highest shipment count"
      ],
      "metadata": {
        "id": "3QEhpRGjC7GD"
      }
    },
    {
      "cell_type": "markdown",
      "source": [
        "##### 3. Will the gained insights help creating a positive business impact?\n",
        "Are there any insights that lead to negative growth? Justify with specific reason."
      ],
      "metadata": {
        "id": "M7G43BXep1ck"
      }
    },
    {
      "cell_type": "markdown",
      "source": [
        "Answer Here"
      ],
      "metadata": {
        "id": "5wwDJXsLp1cl"
      }
    },
    {
      "cell_type": "markdown",
      "source": [],
      "metadata": {
        "id": "mh7GPNnxDRwb"
      }
    },
    {
      "cell_type": "markdown",
      "source": [
        "# Yes, understanding shipment distribution can significantly inform business strategies. By focusing on high-performing countries, resources can be optimized for marketing and logistics."
      ],
      "metadata": {
        "id": "hC--ZcS4D2y0"
      }
    },
    {
      "cell_type": "markdown",
      "source": [
        "#### Chart - 13"
      ],
      "metadata": {
        "id": "Ag9LCva-p1cl"
      }
    },
    {
      "cell_type": "code",
      "source": [
        "# Chart - 13 visualization code\n",
        "plt.figure(figsize=(10, 6))\n",
        "sns.histplot(df['Unit of Measure (Per Pack)'], bins=30, kde=True)\n",
        "plt.title('Histogram of Unit of Measure (Per Pack)')\n",
        "plt.show()\n"
      ],
      "metadata": {
        "id": "EUfxeq9-p1cl"
      },
      "execution_count": null,
      "outputs": []
    },
    {
      "cell_type": "markdown",
      "source": [
        "##### 1. Why did you pick the specific chart?"
      ],
      "metadata": {
        "id": "E6MkPsBcp1cl"
      }
    },
    {
      "cell_type": "markdown",
      "source": [
        "# I chose a histogram with a kernel density estimate (KDE) overlay to visualize the distribution of the \"Unit of Measure (Per Pack)\" data because it provides a clear representation of the frequency of different unit measurements."
      ],
      "metadata": {
        "id": "FZLfoOWraQJ7"
      }
    },
    {
      "cell_type": "markdown",
      "source": [
        "Answer Here."
      ],
      "metadata": {
        "id": "V22bRsFWp1cl"
      }
    },
    {
      "cell_type": "markdown",
      "source": [
        "##### 2. What is/are the insight(s) found from the chart?"
      ],
      "metadata": {
        "id": "2cELzS2fp1cl"
      }
    },
    {
      "cell_type": "markdown",
      "source": [
        "# The chart reveals the distribution of units of measure per pack."
      ],
      "metadata": {
        "id": "Nsa4o0dcaSVW"
      }
    },
    {
      "cell_type": "markdown",
      "source": [
        "Answer Here"
      ],
      "metadata": {
        "id": "ozQPc2_Ip1cl"
      }
    },
    {
      "cell_type": "markdown",
      "source": [
        "##### 3. Will the gained insights help creating a positive business impact?\n",
        "Are there any insights that lead to negative growth? Justify with specific reason."
      ],
      "metadata": {
        "id": "3MPXvC8up1cl"
      }
    },
    {
      "cell_type": "markdown",
      "source": [
        "# Yes, the insights gained can foster positive business impacts by guiding decisions related to product packaging and inventory management"
      ],
      "metadata": {
        "id": "p0OXeEqOahgN"
      }
    },
    {
      "cell_type": "markdown",
      "source": [
        "Answer Here"
      ],
      "metadata": {
        "id": "GL8l1tdLp1cl"
      }
    },
    {
      "cell_type": "markdown",
      "source": [
        "#### Chart - 14 - Correlation Heatmap"
      ],
      "metadata": {
        "id": "NC_X3p0fY2L0"
      }
    },
    {
      "cell_type": "markdown",
      "source": [],
      "metadata": {
        "id": "mwoFUKEdGrvD"
      }
    },
    {
      "cell_type": "markdown",
      "source": [],
      "metadata": {
        "id": "JZG7zIuYfDTU"
      }
    },
    {
      "cell_type": "code",
      "source": [
        "\n",
        "\n",
        "# Select relevant numeric columns for correlation analysis\n",
        "numeric_columns = df.select_dtypes(include='number')  # Automatically selects numeric columns\n",
        "correlation_matrix = numeric_columns.corr()\n",
        "\n",
        "# Set up the matplotlib figure\n",
        "plt.figure(figsize=(14, 10))\n",
        "\n",
        "# Create the heatmap\n",
        "sns.heatmap(\n",
        "    correlation_matrix,\n",
        "    annot=True,\n",
        "    fmt='.2f',\n",
        "    cmap='Spectral',\n",
        "    square=True,              # Make cells square\n",
        "    cbar_kws={'shrink': .8}, # Adjust color bar size\n",
        "    linewidths=0.5,\n",
        "    linecolor='black'\n",
        ")\n",
        "\n",
        "# Enhance visibility\n",
        "plt.title('Correlation Heatmap of Numeric Features', fontsize=20)\n",
        "plt.xticks(rotation=90, fontsize=12)  # Rotate x labels for better readability\n",
        "plt.yticks(rotation=0, fontsize=12)   # Keep y labels horizontal\n",
        "plt.tight_layout()                     # Adjust layout to prevent clipping\n",
        "\n",
        "# Show the plot\n",
        "plt.show()\n"
      ],
      "metadata": {
        "id": "-v9ounzYfvvw"
      },
      "execution_count": null,
      "outputs": []
    },
    {
      "cell_type": "markdown",
      "source": [
        "##### 1. Why did you pick the specific chart?"
      ],
      "metadata": {
        "id": "UV0SzAkaZNRQ"
      }
    },
    {
      "cell_type": "markdown",
      "source": [],
      "metadata": {
        "id": "QNBymQMadIiq"
      }
    },
    {
      "cell_type": "markdown",
      "source": [
        "# I chose the correlation heatmap because it provides a clear visual representation of the relationships between multiple numeric variables in the dataset"
      ],
      "metadata": {
        "id": "dv0iwQBDgSXk"
      }
    },
    {
      "cell_type": "markdown",
      "source": [
        "Answer Here."
      ],
      "metadata": {
        "id": "DVPuT8LYZNRQ"
      }
    },
    {
      "cell_type": "markdown",
      "source": [
        "##### 2. What is/are the insight(s) found from the chart?"
      ],
      "metadata": {
        "id": "YPEH6qLeZNRQ"
      }
    },
    {
      "cell_type": "markdown",
      "source": [
        "# The heatmap can also highlight any unexpected correlations that might warrant further investigation into the data quality or collection methods."
      ],
      "metadata": {
        "id": "9xTpS8rogUO3"
      }
    },
    {
      "cell_type": "markdown",
      "source": [
        "Answer Here"
      ],
      "metadata": {
        "id": "bfSqtnDqZNRR"
      }
    },
    {
      "cell_type": "markdown",
      "source": [
        "#### Chart - 15 - Pair Plot"
      ],
      "metadata": {
        "id": "q29F0dvdveiT"
      }
    },
    {
      "cell_type": "code",
      "source": [
        "# Pair Plot visualization code\n",
        "sns.pairplot(df)\n",
        "plt.title('Pairplot of Dataset')\n",
        "plt.show()"
      ],
      "metadata": {
        "id": "o58-TEIhveiU"
      },
      "execution_count": null,
      "outputs": []
    },
    {
      "cell_type": "markdown",
      "source": [
        "##### 1. Why did you pick the specific chart?"
      ],
      "metadata": {
        "id": "EXh0U9oCveiU"
      }
    },
    {
      "cell_type": "markdown",
      "source": [
        "Answer Here."
      ],
      "metadata": {
        "id": "eMmPjTByveiU"
      }
    },
    {
      "cell_type": "markdown",
      "source": [
        "# The pairplot was chosen because it provides a comprehensive way to visualize pairwise relationships between multiple variables in a dataset"
      ],
      "metadata": {
        "id": "JP6zYf4V4JaV"
      }
    },
    {
      "cell_type": "markdown",
      "source": [
        "##### 2. What is/are the insight(s) found from the chart?"
      ],
      "metadata": {
        "id": "22aHeOlLveiV"
      }
    },
    {
      "cell_type": "markdown",
      "source": [
        "Answer Here"
      ],
      "metadata": {
        "id": "uPQ8RGwHveiV"
      }
    },
    {
      "cell_type": "markdown",
      "source": [
        "# chart shows the positive negative relationship between each variables . like line item value vs pack price , unit pack price vs measure price so we can understand variable and make decisin according it"
      ],
      "metadata": {
        "id": "1Me4cs0E5yU2"
      }
    },
    {
      "cell_type": "markdown",
      "source": [
        "## **5. Solution to Business Objective**"
      ],
      "metadata": {
        "id": "JcMwzZxoAimU"
      }
    },
    {
      "cell_type": "markdown",
      "source": [
        "#### What do you suggest the client to achieve Business Objective ?\n",
        "Explain Briefly."
      ],
      "metadata": {
        "id": "8G2x9gOozGDZ"
      }
    },
    {
      "cell_type": "markdown",
      "source": [
        "Answer Here."
      ],
      "metadata": {
        "id": "pASKb0qOza21"
      }
    },
    {
      "cell_type": "markdown",
      "source": [
        "# **business insights ---**\n",
        "# Resource Allocation: By understanding how order sizes affect delivery times, logistics companies can better allocate resources during peak periods or for large orders, potentially reducing delays.\n",
        "# Route Optimization: Knowledge of geographical impacts allows firms to optimize their routing strategies, ensuring faster deliveries in urban areas while planning additional resources for rural deliveries.\n",
        "# Customer Communication: Utilizing predictive models can enhance communication with customers by providing them with accurate delivery timelines based on historical data trends.\n",
        "#most used shipment mode\n",
        "#demanding articles\n",
        "#extra expenses\n",
        "#top productive maufacturing site\n",
        "# most count of customers in country\n"
      ],
      "metadata": {
        "id": "HR7baiO4P-Ws"
      }
    },
    {
      "cell_type": "markdown",
      "source": [
        "# **Conclusion**"
      ],
      "metadata": {
        "id": "gCX9965dhzqZ"
      }
    },
    {
      "cell_type": "markdown",
      "source": [
        "Write the conclusion here."
      ],
      "metadata": {
        "id": "Fjb1IsQkh3yE"
      }
    },
    {
      "cell_type": "markdown",
      "source": [
        "# In conclusion, the Delivery History Analysis project not only addresses immediate operational challenges but also sets a foundation for continuous improvement in logistics through data-driven decision-making. By leveraging insights gained from this analysis, logistics companies can enhance their service offerings, improve operational efficiency, and ultimately achieve higher levels of customer satisfaction in a competitive marketplace.\n"
      ],
      "metadata": {
        "id": "1tBwYD5WSDNw"
      }
    },
    {
      "cell_type": "markdown",
      "source": [
        "### ***Hurrah! You have successfully completed your EDA Capstone Project !!!***"
      ],
      "metadata": {
        "id": "gIfDvo9L0UH2"
      }
    },
    {
      "cell_type": "code",
      "source": [],
      "metadata": {
        "id": "DI_i10PNFpqh"
      },
      "execution_count": null,
      "outputs": []
    }
  ]
}